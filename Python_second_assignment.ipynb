{
 "cells": [
  {
   "cell_type": "markdown",
   "id": "ee26ae80-8304-4dc8-8815-da0f4919cafc",
   "metadata": {
    "tags": []
   },
   "source": [
    "Question 1. Discuss string slicing and provide examples"
   ]
  },
  {
   "cell_type": "raw",
   "id": "dabc45ee-5807-4874-b110-ba9e6cc41fe2",
   "metadata": {
    "tags": []
   },
   "source": [
    "Strings are used for representing textual data. A string is a sequence of characters enclosed in either single quotes ('') or double quotes (“”). The Python language provides various built-in methods and functionalities to work with strings efficiently.\n",
    "\n",
    "Each character in the string can be accessed by its index, or position. Substrings can be extracted using slicing. Strings can be joined together and altered using a variety of techniques (find, replace, etc..)."
   ]
  },
  {
   "cell_type": "code",
   "execution_count": 1,
   "id": "42eb984a-74e9-458d-b3a9-0bc0a82b1a09",
   "metadata": {},
   "outputs": [
    {
     "name": "stdout",
     "output_type": "stream",
     "text": [
      "s\n"
     ]
    }
   ],
   "source": [
    "name = \"sakshi rawat\"\n",
    "first_letter = name[0] # indexing >> position\n",
    "print(first_letter)"
   ]
  },
  {
   "cell_type": "code",
   "execution_count": 2,
   "id": "dbcb4d1b-b808-448d-910d-e01dfa73ff58",
   "metadata": {},
   "outputs": [
    {
     "name": "stdout",
     "output_type": "stream",
     "text": [
      "sakshi\n"
     ]
    }
   ],
   "source": [
    "first_name = name[:6] # slicing >> substring\n",
    "print(first_name)"
   ]
  },
  {
   "cell_type": "markdown",
   "id": "6ede0327-1424-49fc-ab26-3bc21f645753",
   "metadata": {},
   "source": [
    "Question 2. Explain the key fetaures of lists in python."
   ]
  },
  {
   "cell_type": "raw",
   "id": "5fede231-329a-45e1-940f-f0dae8c3c1dc",
   "metadata": {},
   "source": [
    "Ordered, mutable collections of elements. Think of shopping lists or task lists. Lists can hold items of various data types (numbers, strings, even other lists!)\n",
    "\n",
    "We can add, remove, or modify elements within a list using indexing and slicing. Lists are versatile for storing and managing collections that might change."
   ]
  },
  {
   "cell_type": "code",
   "execution_count": 3,
   "id": "134cb09a-f5bd-4deb-b414-9595391e7beb",
   "metadata": {},
   "outputs": [
    {
     "name": "stdout",
     "output_type": "stream",
     "text": [
      "['apple', 'mango', 'guava', True, 'butter']\n"
     ]
    }
   ],
   "source": [
    "my_list = [\"apple\", 2, \"mango\", \"guava\", True] # mixed data types\n",
    "my_list.append(\"butter\") # adding an item\n",
    "del my_list[1] # removing an item\n",
    "print(my_list)"
   ]
  },
  {
   "cell_type": "markdown",
   "id": "721bd9af-474b-4e71-9062-af5fe9ce8191",
   "metadata": {},
   "source": [
    "Question 3. Describe how to access, modify, and delete elements in a list with examples."
   ]
  },
  {
   "cell_type": "code",
   "execution_count": 4,
   "id": "5d99c281-3670-4d11-94ba-85bbe4fd318e",
   "metadata": {},
   "outputs": [
    {
     "name": "stdout",
     "output_type": "stream",
     "text": [
      "10\n",
      "30\n",
      "50\n",
      "30\n"
     ]
    }
   ],
   "source": [
    "'''\n",
    "1. We can access elements in a list using indexing. \n",
    "Python uses zero-based indexing, meaning the first element has an index of 0. Below is the example-\n",
    "\n",
    "'''\n",
    "\n",
    "my_list = [10, 20, 30, 40, 50]\n",
    "print(my_list[0]) # getting first element\n",
    "print(my_list[2]) # getting third element\n",
    "print(my_list[-1])  # Output: 50 (last element)\n",
    "print(my_list[-3])  # Output: 30 (third from last)"
   ]
  },
  {
   "cell_type": "code",
   "execution_count": 5,
   "id": "6afba43f-62f6-4cd9-a7b2-ccfd864cb77d",
   "metadata": {},
   "outputs": [
    {
     "name": "stdout",
     "output_type": "stream",
     "text": [
      "[10, 25, 30, 40, 50]\n",
      "[10, 22, 33, 40, 50]\n"
     ]
    }
   ],
   "source": [
    "'''\n",
    "2. We can modify elements in a list by assigning a new value to a specific index. for examples-\n",
    "\n",
    "'''\n",
    "\n",
    "# Modify an element\n",
    "my_list = [10, 20, 30, 40, 50]\n",
    "my_list[1] = 25  # Changes the second element (20) to 25\n",
    "print(my_list)    # Output: [10, 25, 30, 40, 50]\n",
    "\n",
    "# Modify multiple elements (slicing)\n",
    "my_list[1:3] = [22, 33]  # Changes the second and third elements\n",
    "print(my_list)           # Output: [10, 22, 33, 40, 50]"
   ]
  },
  {
   "cell_type": "code",
   "execution_count": 8,
   "id": "9381910a-7783-49d4-9006-d1eadafae201",
   "metadata": {},
   "outputs": [
    {
     "name": "stdout",
     "output_type": "stream",
     "text": [
      "[10, 30, 40, 50]\n",
      "[10, 40, 50]\n",
      "[10, 30, 40, 20]\n",
      "[10, 20, 30, 40]\n",
      "50\n",
      "[10, 20, 40]\n",
      "30\n"
     ]
    }
   ],
   "source": [
    "'''\n",
    "\n",
    "We can delete elements from a list using the del statement, remove(), or pop() methods.\n",
    "\n",
    "'''\n",
    "# del: Deletes an element by index or a slice of elements.\n",
    "\n",
    "# Deleting by index\n",
    "my_list = [10,20,30,40,50]\n",
    "del my_list[1]  # Deletes the second element (20)\n",
    "print(my_list)  # Output: [10, 30, 40, 50]\n",
    "\n",
    "# Deleting a slice\n",
    "my_list = [10,20,30,40,50]\n",
    "del my_list[1:3]\n",
    "print(my_list)\n",
    "\n",
    "# remove(): Deletes the first occurrence of a specified value.\n",
    "\n",
    "# Remove by value\n",
    "my_list = [10,20,30,40,20]\n",
    "my_list.remove(20)  # Removes the value 20\n",
    "print(my_list)\n",
    "\n",
    "# pop(): Removes and returns an element at a specified index (or the last element by default).\n",
    "\n",
    "# Pop the last element\n",
    "my_list = [10, 20, 30, 40, 50]\n",
    "last_element = my_list.pop()  # Removes and returns the last element (50)\n",
    "print(my_list)  # Output: [10, 20, 30, 40]\n",
    "print(last_element)  # Output: 50\n",
    "\n",
    "# Pop by index\n",
    "third_element = my_list.pop(2)  # Removes and returns the third element (30)\n",
    "print(my_list)  # Output: [10, 20, 40]\n",
    "print(third_element)  # Output: 30"
   ]
  },
  {
   "cell_type": "markdown",
   "id": "b500b1bf-a09e-4d59-9412-884371ffb9a3",
   "metadata": {},
   "source": [
    "Question 4. Compare and contrast tuples and lists with examples."
   ]
  },
  {
   "cell_type": "raw",
   "id": "edd2a1de-c994-49a6-9bcc-a0ae58be8c74",
   "metadata": {},
   "source": [
    "Both tuples and lists are used to store collections of items in Python, but they have some key differences. below is the comparison of their characteristics, along with examples:"
   ]
  },
  {
   "cell_type": "code",
   "execution_count": 9,
   "id": "3ade60b8-0e68-4326-b14d-bf366a9227b5",
   "metadata": {},
   "outputs": [
    {
     "name": "stdout",
     "output_type": "stream",
     "text": [
      "<class 'list'>\n"
     ]
    }
   ],
   "source": [
    "# Syntax\n",
    "\n",
    "#List - Defined with square brackets [ ]\n",
    "#Tuple - Defined with parentheses ( )\n",
    "\n",
    "my_list = [1,2,3,4,5]\n",
    "print(type(my_list))"
   ]
  },
  {
   "cell_type": "code",
   "execution_count": 10,
   "id": "7de0ec2b-afd8-4207-a67d-af070908dd02",
   "metadata": {},
   "outputs": [
    {
     "name": "stdout",
     "output_type": "stream",
     "text": [
      "<class 'tuple'>\n"
     ]
    }
   ],
   "source": [
    "my_tuple = (1,2,3,4,5)\n",
    "print(type(my_tuple))"
   ]
  },
  {
   "cell_type": "code",
   "execution_count": 11,
   "id": "663a67d5-7be9-47bb-be8f-14bb42233a71",
   "metadata": {},
   "outputs": [
    {
     "name": "stdout",
     "output_type": "stream",
     "text": [
      "[1, 0, 3, 4, 5, 6]\n"
     ]
    }
   ],
   "source": [
    "# Mutability\n",
    "\n",
    "#list - Mutable, meaning we can modify, add, or delete elements after the list is created.\n",
    "#Tuple - Immutable, meaning once a tuple is created, we cannot change its elements.\n",
    "\n",
    "#modifying list\n",
    "my_list = [1,2,3,4,5,6]\n",
    "my_list[1] = 0 #changing the second element\n",
    "print(my_list)"
   ]
  },
  {
   "cell_type": "code",
   "execution_count": null,
   "id": "a3aec169-1214-42a2-b3a6-dc12d6fe6b58",
   "metadata": {},
   "outputs": [],
   "source": [
    "# Attempting to modify a tuple (will raise an error)\n",
    "my_tuple = (10, 20, 30, 40)\n",
    "# my_tuple[1] = 25  # Uncommenting this line will raise TypeError: 'tuple' object does not support item assignment"
   ]
  },
  {
   "cell_type": "code",
   "execution_count": 12,
   "id": "e01e4bbc-2959-40a6-8d53-d333da6d0b78",
   "metadata": {},
   "outputs": [
    {
     "name": "stdout",
     "output_type": "stream",
     "text": [
      "[10, 20, 30, 40, 50]\n"
     ]
    }
   ],
   "source": [
    "# Methods\n",
    "\n",
    "#List - has many built-in methods like append( ) , remove( ), pop( ) , etc.\n",
    "#Tuple has limited methods such as count( ) and index ( )\n",
    "\n",
    "# List methods\n",
    "my_list = [10,20,30,40]\n",
    "my_list.append(50)  # Adds 50 to the end of the list\n",
    "print(my_list)      # Output: [10, 20, 30, 40, 50]"
   ]
  },
  {
   "cell_type": "code",
   "execution_count": 13,
   "id": "c7f5f269-5f9c-42b7-a735-df58a7333aa7",
   "metadata": {},
   "outputs": [
    {
     "name": "stdout",
     "output_type": "stream",
     "text": [
      "2\n",
      "2\n"
     ]
    }
   ],
   "source": [
    "# Tuple methods (few available)\n",
    "my_tuple = (10, 20, 30, 40, 20)\n",
    "print(my_tuple.count(20))  # Output: 2 (count occurrences of 20)\n",
    "print(my_tuple.index(30))# Output: 2 (index of the first occurrence of 30)"
   ]
  },
  {
   "cell_type": "code",
   "execution_count": null,
   "id": "d88cf9d7-f173-424e-a751-a8d6cf8fd82d",
   "metadata": {},
   "outputs": [],
   "source": [
    "# Performance\n",
    "\n",
    "#List: Since lists are mutable, they consume more memory and processing power, especially when performing dynamic operations (insertion, deletion).\n",
    "#Tuple: Being immutable, tuples are generally faster and more memory-efficient."
   ]
  },
  {
   "cell_type": "code",
   "execution_count": 14,
   "id": "a6f73228-7978-47f7-afbf-f2e88bdd3eb4",
   "metadata": {},
   "outputs": [
    {
     "name": "stdout",
     "output_type": "stream",
     "text": [
      "['apples', 'bananas', 'milk', 'bread']\n"
     ]
    }
   ],
   "source": [
    "# Use Case\n",
    "\n",
    "#List: Use when you have a collection of data that needs to be changed or updated frequently.\n",
    "#Tuple: Use for fixed collections of data, such as storing coordinates, constants, or data that shouldn’t be modified.\n",
    "\n",
    "# Example use case of a list (can change later)\n",
    "my_shopping_list = [\"apples\", \"bananas\", \"milk\"]\n",
    "my_shopping_list.append(\"bread\")  # You can add more items\n",
    "print(my_shopping_list)  # Output: ['apples', 'bananas', 'milk', 'bread']\n",
    "\n",
    "# Example use case of a tuple (fixed data)\n",
    "coordinates = (40.7128, -74.0060)  # Storing location coordinates\n",
    "# coordinates cannot be modified once set"
   ]
  },
  {
   "cell_type": "markdown",
   "id": "d9f839db-548a-4d5e-aaf7-172e5b132731",
   "metadata": {},
   "source": [
    "Question 5. Key features of sets and examples of their use."
   ]
  },
  {
   "cell_type": "code",
   "execution_count": 15,
   "id": "3869ca56-74c5-48df-b9b3-fa23a5cf8e4c",
   "metadata": {},
   "outputs": [
    {
     "name": "stdout",
     "output_type": "stream",
     "text": [
      "{1, 2, 3}\n"
     ]
    }
   ],
   "source": [
    "# 1. Unordered collection\n",
    "# Sets do not maintain any order for elements. When iterating or printing, the order may differ from the input.\n",
    "\n",
    "my_set = {3, 1, 2}\n",
    "print(my_set)  # Output could be {1, 2, 3} or {3, 2, 1}, etc."
   ]
  },
  {
   "cell_type": "code",
   "execution_count": 16,
   "id": "107fd226-0ff5-4f84-bcef-6cb5c4dea22e",
   "metadata": {},
   "outputs": [
    {
     "name": "stdout",
     "output_type": "stream",
     "text": [
      "{1, 2, 3}\n"
     ]
    }
   ],
   "source": [
    "# 2. Sets automatically remove duplicates, ensuring each element appears only once.\n",
    "\n",
    "my_set = {1, 2, 2, 3}\n",
    "print(my_set)  # Output: {1, 2, 3}"
   ]
  },
  {
   "cell_type": "code",
   "execution_count": 17,
   "id": "d12f2325-28d6-4a89-9597-3a5be5cf2594",
   "metadata": {},
   "outputs": [
    {
     "name": "stdout",
     "output_type": "stream",
     "text": [
      "{1, 3, 4}\n"
     ]
    }
   ],
   "source": [
    "# 3. we can add or remove elements in a set, though the elements themselves must be immutable (e.g., strings, numbers, tuples).\n",
    "\n",
    "my_set = {1, 2, 3}\n",
    "my_set.add(4)  # Adds an element\n",
    "my_set.remove(2)  # Removes an element\n",
    "print(my_set)  # Output: {1, 3, 4}"
   ]
  },
  {
   "cell_type": "code",
   "execution_count": 18,
   "id": "927c4515-0f5b-4641-984d-d42c2e3d4c58",
   "metadata": {},
   "outputs": [
    {
     "name": "stdout",
     "output_type": "stream",
     "text": [
      "True\n"
     ]
    }
   ],
   "source": [
    "# 4. Checking if an element is present in a set is faster than in lists.\n",
    "\n",
    "my_set = {1, 2, 3}\n",
    "print(2 in my_set)  # Output: True"
   ]
  },
  {
   "cell_type": "code",
   "execution_count": 19,
   "id": "fd71d109-2809-413d-96e2-c93aff80e448",
   "metadata": {},
   "outputs": [
    {
     "name": "stdout",
     "output_type": "stream",
     "text": [
      "{1, 2, 3, 4, 5}\n",
      "{3}\n",
      "{1, 2}\n",
      "{1, 2, 4, 5}\n"
     ]
    }
   ],
   "source": [
    "# 5. Sets support operations like union, intersection, difference, and symmetric difference.\n",
    "\n",
    "set_a = {1, 2, 3}\n",
    "set_b = {3, 4, 5}\n",
    "\n",
    "# Union\n",
    "print(set_a | set_b)  # Output: {1, 2, 3, 4, 5}\n",
    "\n",
    "# Intersection\n",
    "print(set_a & set_b)  # Output: {3}\n",
    "\n",
    "# Difference\n",
    "print(set_a - set_b)  # Output: {1, 2}\n",
    "\n",
    "# Symmetric Difference\n",
    "print(set_a ^ set_b)  # Output: {1, 2, 4, 5}"
   ]
  },
  {
   "cell_type": "code",
   "execution_count": 20,
   "id": "70a3655d-9681-425a-810b-99c3e2d46dc0",
   "metadata": {},
   "outputs": [
    {
     "name": "stdout",
     "output_type": "stream",
     "text": [
      "1\n",
      "2\n",
      "3\n"
     ]
    }
   ],
   "source": [
    "# 6. Sets can be used in loops, allowing you to iterate over the elements.\n",
    "my_set = {1, 2, 3}\n",
    "for element in my_set:\n",
    "    print(element)"
   ]
  },
  {
   "cell_type": "markdown",
   "id": "f9e43657-8a46-4f03-b769-342fee700a49",
   "metadata": {},
   "source": [
    "Question 6. Use cases of tuples and sets in python programming."
   ]
  },
  {
   "cell_type": "code",
   "execution_count": 21,
   "id": "d610be5a-8304-4dde-9099-c855dfab0fb1",
   "metadata": {},
   "outputs": [
    {
     "name": "stdout",
     "output_type": "stream",
     "text": [
      "('Alice', 30, 5.7)\n"
     ]
    }
   ],
   "source": [
    "# Use cases of tuples:\n",
    "\n",
    "# 1. Storing Heterogeneous Data: Tuples can hold a collection of items that are not necessarily of the same type (e.g., strings, integers, floats).\n",
    "\n",
    "person_info = (\"Alice\", 30, 5.7)\n",
    "print (person_info)"
   ]
  },
  {
   "cell_type": "code",
   "execution_count": 22,
   "id": "59fa7ddf-b3b7-4013-b47b-3b74f7d5756f",
   "metadata": {},
   "outputs": [
    {
     "name": "stdout",
     "output_type": "stream",
     "text": [
      "('Alice', 30, 5.7)\n"
     ]
    }
   ],
   "source": [
    "# 2. Return Multiple Values from Functions:\n",
    "\n",
    "def get_user_info():\n",
    "    name = \"Alice\"\n",
    "    age = 30\n",
    "    height = 5.7\n",
    "    return name, age, height  # Returns a tuple\n",
    "\n",
    "user_info = get_user_info()\n",
    "print(user_info)  # Output: ('Alice', 30, 5.7)"
   ]
  },
  {
   "cell_type": "code",
   "execution_count": null,
   "id": "210ba218-e373-4c4a-9770-f4502f308d2c",
   "metadata": {},
   "outputs": [],
   "source": [
    "# 3. Tuples are immutable, meaning their contents cannot be changed after creation. \n",
    "#This makes them useful for storing data that should remain constant throughout the program's execution."
   ]
  },
  {
   "cell_type": "code",
   "execution_count": 23,
   "id": "ab333308-4695-4998-b208-9d464f428d83",
   "metadata": {},
   "outputs": [
    {
     "name": "stdout",
     "output_type": "stream",
     "text": [
      "{('New York', 'USA'): 'NYC Info', ('Tokyo', 'Japan'): 'Tokyo Info'}\n"
     ]
    }
   ],
   "source": [
    "# 4. Tuples can be used as keys in dictionaries because they are immutable (unlike lists, which cannot be used as dictionary keys).\n",
    "\n",
    "location_data = {(\"New York\", \"USA\"): \"NYC Info\", (\"Tokyo\", \"Japan\"): \"Tokyo Info\"}\n",
    "print(location_data)"
   ]
  },
  {
   "cell_type": "code",
   "execution_count": 24,
   "id": "e9ac3859-3bdf-4518-a28a-cea0883c356e",
   "metadata": {},
   "outputs": [
    {
     "name": "stdout",
     "output_type": "stream",
     "text": [
      "Alice 30 Engineer\n"
     ]
    }
   ],
   "source": [
    "# 5. Tuples allow multiple variables to be assigned values in a single line (unpacking) or packing multiple values into a tuple.\n",
    "\n",
    "# Packing\n",
    "person = (\"Alice\", 30, \"Engineer\")\n",
    "\n",
    "# Unpacking\n",
    "name, age, job = person\n",
    "print(name, age, job)  # Output: Alice 30 Engineer"
   ]
  },
  {
   "cell_type": "code",
   "execution_count": 25,
   "id": "b03827d1-1ab6-448c-880d-63f76cf359f5",
   "metadata": {},
   "outputs": [
    {
     "name": "stdout",
     "output_type": "stream",
     "text": [
      "{1, 2, 3, 4}\n"
     ]
    }
   ],
   "source": [
    "## Use cases of Sets:\n",
    "\n",
    "# 1. Sets are ideal for filtering out duplicate elements from lists or other collections.\n",
    "\n",
    "my_list = [1, 2, 2, 3, 4, 4]\n",
    "unique_set = set(my_list)\n",
    "print(unique_set)  # Output: {1, 2, 3, 4}"
   ]
  },
  {
   "cell_type": "code",
   "execution_count": 26,
   "id": "23c840e0-afd4-4c6e-b2ae-d8c2453081c8",
   "metadata": {},
   "outputs": [
    {
     "name": "stdout",
     "output_type": "stream",
     "text": [
      "True\n"
     ]
    }
   ],
   "source": [
    "# 2. Checking if an item exists in a large dataset is faster with sets compared to lists\n",
    "\n",
    "large_set = {i for i in range(1000000)}\n",
    "print(100000 in large_set)  # Efficient membership test"
   ]
  },
  {
   "cell_type": "code",
   "execution_count": 27,
   "id": "35b31b98-3769-4c12-be80-9cf49133a22c",
   "metadata": {},
   "outputs": [
    {
     "name": "stdout",
     "output_type": "stream",
     "text": [
      "{1, 2, 3, 4, 5}\n",
      "{3}\n",
      "{1, 2}\n"
     ]
    }
   ],
   "source": [
    "# 3. Sets provide built-in operations for union, intersection, and difference, which are useful in data analysis tasks.Sets provide built-in operations for union, intersection, and difference, which are useful in data analysis tasks.\n",
    "\n",
    "set_a = {1, 2, 3}\n",
    "set_b = {3, 4, 5}\n",
    "\n",
    "# Union\n",
    "print(set_a | set_b)  # Output: {1, 2, 3, 4, 5}\n",
    "\n",
    "# Intersection\n",
    "print(set_a & set_b)  # Output: {3}\n",
    "\n",
    "# Difference\n",
    "print(set_a - set_b)  # Output: {1, 2}"
   ]
  },
  {
   "cell_type": "code",
   "execution_count": 28,
   "id": "c4d4dc3a-2d72-4bba-9a1d-ba6b946ffb63",
   "metadata": {},
   "outputs": [
    {
     "name": "stdout",
     "output_type": "stream",
     "text": [
      "{'the', 'lazy', 'brown', 'over', 'dog', 'fox', 'quick', 'jumps'}\n"
     ]
    }
   ],
   "source": [
    "# 4. When processing large text data, sets can be used to extract all unique words from a document.\n",
    "\n",
    "text = \"the quick brown fox jumps over the lazy dog\"\n",
    "unique_words = set(text.split())\n",
    "print(unique_words)"
   ]
  },
  {
   "cell_type": "code",
   "execution_count": 29,
   "id": "c4041176-f7fd-4858-84db-5dda2b7bf3d2",
   "metadata": {},
   "outputs": [
    {
     "name": "stdout",
     "output_type": "stream",
     "text": [
      "{1, 2, 10}\n"
     ]
    }
   ],
   "source": [
    "# 5. Use sets to find differences between two lists (or datasets), which can be useful in data cleansing or comparison tasks.\n",
    "\n",
    "list_a = [1, 2, 3, 4, 10]\n",
    "list_b = [3, 4, 5, 6, 11]\n",
    "difference = set(list_a) - set(list_b)\n",
    "print(difference)  # Output: {1, 2, 10}"
   ]
  },
  {
   "cell_type": "raw",
   "id": "680d3640-0145-4a52-a9b6-fe47612f2ca2",
   "metadata": {},
   "source": [
    "Summary >> \n",
    "Tuples: Useful for immutable, ordered collections of heterogeneous data, \n",
    "like returning multiple values from functions, storing constants, or packing/unpacking values.\n",
    "\n",
    "Sets: Useful for unique, unordered collections, providing efficient membership testing, \n",
    "set operations (union, intersection, difference), and eliminating duplicates from data collections."
   ]
  },
  {
   "cell_type": "markdown",
   "id": "ffc2949c-ac36-483f-b7b1-c09667401875",
   "metadata": {},
   "source": [
    "Question 7 Describe how to add, modify, and delete items in a dictionary with examples."
   ]
  },
  {
   "cell_type": "code",
   "execution_count": 30,
   "id": "2b4e260a-75dc-430a-986e-29661c7e7648",
   "metadata": {},
   "outputs": [
    {
     "name": "stdout",
     "output_type": "stream",
     "text": [
      "{'name': 'Alice', 'age': 25, 'city': 'New York'}\n"
     ]
    }
   ],
   "source": [
    "# To add a new key-value pair, simply assign a value to a new key.\n",
    "\n",
    "my_dict = {\"name\": \"Alice\", \"age\": 25}\n",
    "my_dict[\"city\"] = \"New York\"  # Adding a new key-value pair\n",
    "print(my_dict)  # Output: {'name': 'Alice', 'age': 25, 'city': 'New York'}"
   ]
  },
  {
   "cell_type": "code",
   "execution_count": 31,
   "id": "c6e2af42-8a10-4e3d-a597-82d6d5896de3",
   "metadata": {},
   "outputs": [
    {
     "name": "stdout",
     "output_type": "stream",
     "text": [
      "{'name': 'Alice', 'age': 25}\n",
      "{'name': 'Alice', 'city': 'New York'}\n"
     ]
    }
   ],
   "source": [
    "# can delete items using the del statement or the pop() method.\n",
    "\n",
    "my_dict = {\"name\": \"Alice\", \"age\": 25, \"city\": \"New York\"}\n",
    "del my_dict[\"city\"]  # Deleting a key-value pair\n",
    "print(my_dict)  # Output: {'name': 'Alice', 'age': 25}\n",
    "\n",
    "my_dict = {\"name\": \"Alice\", \"age\": 25, \"city\": \"New York\"}\n",
    "my_dict.pop(\"age\")  # Removes the key and returns the value\n",
    "print(my_dict)  # Output: {'name': 'Alice', 'city': 'New York'}"
   ]
  },
  {
   "cell_type": "markdown",
   "id": "eca9e726-5156-4fcf-affc-ebbf62ea118a",
   "metadata": {},
   "source": [
    "Question 8. Discuss the importance of dictionary keys being immutable and provide exmaples."
   ]
  },
  {
   "cell_type": "raw",
   "id": "09f07ec0-ea18-4670-851e-c39b67ec479a",
   "metadata": {},
   "source": [
    "Dictionary keys in Python must be immutable because dictionaries use hashing to store and retrieve values efficiently. Immutable objects, such as strings, numbers, and tuples, have a fixed hash value that doesn't change over time.\n",
    "\n",
    "If keys were mutable (like lists or dictionaries), their hash values could change when modified, making it impossible to reliably locate the key in the dictionary, leading to errors."
   ]
  },
  {
   "cell_type": "code",
   "execution_count": 34,
   "id": "961c2e80-ec05-441c-b886-5ef849470d12",
   "metadata": {},
   "outputs": [
    {
     "name": "stdout",
     "output_type": "stream",
     "text": [
      "{'name': 'Alice', 'age': 30}\n"
     ]
    }
   ],
   "source": [
    "# Strings:\n",
    "\n",
    "my_dict = {\"name\": \"Alice\", \"age\": 30}  # Keys are immutable strings\n",
    "print(my_dict)"
   ]
  },
  {
   "cell_type": "code",
   "execution_count": 33,
   "id": "a49fe7d2-e43c-4fa0-8b94-f407a698f8f7",
   "metadata": {},
   "outputs": [
    {
     "name": "stdout",
     "output_type": "stream",
     "text": [
      "{(1, 2): 'coordinates'}\n"
     ]
    }
   ],
   "source": [
    "# Tuples:\n",
    "\n",
    "my_dict = {(1, 2): \"coordinates\"}  # Tuple as a key (immutable)\n",
    "print(my_dict)"
   ]
  },
  {
   "cell_type": "code",
   "execution_count": null,
   "id": "4054e5ce-c125-42cd-95c4-7bdcb8fb28c3",
   "metadata": {},
   "outputs": [],
   "source": [
    "# Lists:\n",
    "\n",
    "my_dict = {[1, 2]: \"invalid key\"}  # Raises a TypeError as lists are mutable"
   ]
  },
  {
   "cell_type": "raw",
   "id": "a5309300-3fd7-4d94-b41f-8f7a89d1beb7",
   "metadata": {},
   "source": [
    "Summary : Immutable keys ensure consistent hashing, allowing dictionaries to function efficiently and accurately."
   ]
  }
 ],
 "metadata": {
  "kernelspec": {
   "display_name": "Python 3 (ipykernel)",
   "language": "python",
   "name": "python3"
  },
  "language_info": {
   "codemirror_mode": {
    "name": "ipython",
    "version": 3
   },
   "file_extension": ".py",
   "mimetype": "text/x-python",
   "name": "python",
   "nbconvert_exporter": "python",
   "pygments_lexer": "ipython3",
   "version": "3.10.8"
  }
 },
 "nbformat": 4,
 "nbformat_minor": 5
}
