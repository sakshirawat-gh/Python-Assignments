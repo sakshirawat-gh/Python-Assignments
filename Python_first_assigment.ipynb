{
 "cells": [
  {
   "cell_type": "markdown",
   "id": "2eba8884-0675-4267-a02c-4b1e5d3fe11d",
   "metadata": {},
   "source": [
    "Question 1. Explain the key features of python that make it a popular choice for programming"
   ]
  },
  {
   "cell_type": "markdown",
   "id": "8c1cea3e-73eb-453f-a59d-44b7b46b772f",
   "metadata": {},
   "source": [
    "Ans. Key features of python that make it a popular choice for programming are as follows\n",
    "\n",
    "1) It is easy to understand and write\n",
    "\n",
    "2) It is compatible with various programming paradigms, such as procedural, object-oriented and functional programming.\n",
    "\n",
    "3) It has a large and active community of developers, an extensive standard library."
   ]
  },
  {
   "cell_type": "code",
   "execution_count": null,
   "id": "33e7c4d7-d42d-46ba-8f6b-967a9f41c044",
   "metadata": {},
   "outputs": [],
   "source": [
    "Question 2. Role of predefined keywords in python with examples."
   ]
  },
  {
   "cell_type": "code",
   "execution_count": null,
   "id": "a67ef9bf-f3b2-4f41-97bd-f6dc466f2207",
   "metadata": {},
   "outputs": [],
   "source": [
    "# Ans. Keywords are reserved words in python that have special meanings and cannot be used as identifiers (variable names, function name, etc...)\n",
    "\n",
    "# Examples-\n",
    "\n",
    "# Include if, else, while, for, def, class, import, true, false, none, etc…\n",
    "\n",
    "# False, True, None: Used for boolean and null values.\n",
    "# and, or, not: Logical operators.\n",
    "# if, elif, else: Used for conditional statements.\n",
    "# for, while, break, continue: Used for loops and loop control.\n",
    "# def, return: Define functions and return values.\n",
    "# class: Used to define a class, etc.."
   ]
  },
  {
   "cell_type": "code",
   "execution_count": 1,
   "id": "654a93eb-5f50-4211-a3da-742164596c01",
   "metadata": {},
   "outputs": [
    {
     "name": "stdout",
     "output_type": "stream",
     "text": [
      "x is greater than 5\n"
     ]
    }
   ],
   "source": [
    "# condition statement\n",
    "x = 10\n",
    "if x > 5:\n",
    "    print(\"x is greater than 5\")\n",
    "elif x == 5:\n",
    "    print(\"x is equal to 5\")\n",
    "else:\n",
    "    print(\"x is less than 5\")"
   ]
  },
  {
   "cell_type": "code",
   "execution_count": 2,
   "id": "c7e41558-0077-4be0-ad17-41760b1000c1",
   "metadata": {},
   "outputs": [
    {
     "name": "stdout",
     "output_type": "stream",
     "text": [
      "a is True and b is False\n"
     ]
    }
   ],
   "source": [
    "# logical operators\n",
    "a = True\n",
    "b = False\n",
    "if a and not b: # can also be written as !=\n",
    "    print(\"a is True and b is False\")"
   ]
  },
  {
   "cell_type": "code",
   "execution_count": 3,
   "id": "4633226c-a9f4-4214-b649-0e127578e707",
   "metadata": {},
   "outputs": [
    {
     "name": "stdout",
     "output_type": "stream",
     "text": [
      "0\n",
      "1\n",
      "2\n",
      "3\n",
      "4\n"
     ]
    }
   ],
   "source": [
    "# Loops\n",
    "for i in range(5): #In this loop, for is used to iterate through a sequence, and range(5) generates numbers from 0 to 4.\n",
    "    print(i)"
   ]
  },
  {
   "cell_type": "code",
   "execution_count": 4,
   "id": "4aab5ad8-e7d9-4b66-9962-aa07d134810b",
   "metadata": {},
   "outputs": [
    {
     "name": "stdout",
     "output_type": "stream",
     "text": [
      "5\n"
     ]
    }
   ],
   "source": [
    "# Function Definition\n",
    "def add_numbers(a, b): #def is used to define a function,\n",
    "    return a + b   # and return is used to return a value from the function.\n",
    "\n",
    "result = add_numbers(2, 3)\n",
    "print(result)"
   ]
  },
  {
   "cell_type": "markdown",
   "id": "6c228fdf-cba5-4de2-8a17-cb0c62c0e16c",
   "metadata": {},
   "source": [
    "Question 3. Mutable and immutable objects in python with examples."
   ]
  },
  {
   "cell_type": "code",
   "execution_count": null,
   "id": "411c01cf-7c8a-4da6-a30f-8142e6a9df9b",
   "metadata": {},
   "outputs": [],
   "source": [
    "# Ans. Mutable Objects:\n",
    "\n",
    "# Mutable objects are those whose values can be changed in place after the object is created. When you modify a mutable object, the object itself is updated without creating a new object.\n",
    "\n",
    "# Examples of mutable objects:\n",
    "\n",
    "# Lists\n",
    "\n",
    "# Dictionaries\n",
    "\n",
    "# Sets"
   ]
  },
  {
   "cell_type": "code",
   "execution_count": 5,
   "id": "60aefec8-24b6-4dc8-bc83-b1b6968c0d76",
   "metadata": {},
   "outputs": [
    {
     "name": "stdout",
     "output_type": "stream",
     "text": [
      "[10, 2, 3]\n"
     ]
    }
   ],
   "source": [
    "# list\n",
    "my_list = [1, 2, 3]\n",
    "my_list[0] = 10  # List can be modified\n",
    "print(my_list)"
   ]
  },
  {
   "cell_type": "code",
   "execution_count": 6,
   "id": "d31bcd35-98eb-4b67-83b3-e8b311c9c8f0",
   "metadata": {},
   "outputs": [
    {
     "name": "stdout",
     "output_type": "stream",
     "text": [
      "{'a': 10}\n"
     ]
    }
   ],
   "source": [
    "# Dictionary\n",
    "my_dict = {'a': 1}\n",
    "my_dict['a'] = 10  # Modify dictionary\n",
    "print(my_dict)"
   ]
  },
  {
   "cell_type": "code",
   "execution_count": 7,
   "id": "254062c0-1c9e-4ab3-9763-606171422ccc",
   "metadata": {},
   "outputs": [
    {
     "name": "stdout",
     "output_type": "stream",
     "text": [
      "{1, 2, 3}\n"
     ]
    }
   ],
   "source": [
    "# set\n",
    "my_set = {1, 2}\n",
    "my_set.add(3)  # Add to set\n",
    "print(my_set)"
   ]
  },
  {
   "cell_type": "raw",
   "id": "ebf2693d-bded-4a55-8882-ce17ead01ba2",
   "metadata": {},
   "source": [
    "Immutable objects are those whose value cannot be changed or modify once the object is created. Any attempt to modify it results in the creation of new object.\n",
    "\n",
    "Exmaples include integers, strings, and tuples."
   ]
  },
  {
   "cell_type": "code",
   "execution_count": 8,
   "id": "316ba314-eba6-4487-a740-77ebad288b54",
   "metadata": {},
   "outputs": [
    {
     "name": "stdout",
     "output_type": "stream",
     "text": [
      "11\n"
     ]
    }
   ],
   "source": [
    "# Integer\n",
    "x = 10\n",
    "x = x + 1  # Creates new integer\n",
    "print(x)"
   ]
  },
  {
   "cell_type": "code",
   "execution_count": 9,
   "id": "20ae7125-39ea-448b-8543-c2c607ab67e6",
   "metadata": {},
   "outputs": [
    {
     "name": "stdout",
     "output_type": "stream",
     "text": [
      "hello world\n"
     ]
    }
   ],
   "source": [
    "# String\n",
    "s = \"hello\"\n",
    "s = s + \" world\"  # Creates new string\n",
    "print(s)"
   ]
  },
  {
   "cell_type": "code",
   "execution_count": 10,
   "id": "b219354a-1a4d-4d2e-a69e-ac31d70717e0",
   "metadata": {},
   "outputs": [],
   "source": [
    "# Tuple\n",
    "my_tuple = (1, 2, 3)\n",
    "# my_tuple[0] = 10  # Raises TypeError (can't modify)"
   ]
  },
  {
   "cell_type": "markdown",
   "id": "c8bf2781-e50d-4b41-873c-d429a6008ebf",
   "metadata": {},
   "source": [
    "Question 4. Different types of operators in python with examples."
   ]
  },
  {
   "cell_type": "raw",
   "id": "06c16c25-d9ad-4487-a414-1d72b710dad8",
   "metadata": {
    "tags": []
   },
   "source": [
    "Ans. In Python, operators are symbols used to perform operations on variables and values. Here are the different types of operators with examples:\n",
    "\n",
    "Arithmetic :\n",
    "\n",
    "Addition 5 + 3 = 8\n",
    "\n",
    "Subtraction 5 - 3 = 2\n",
    "\n",
    "Multiplication 5 * 3 = 15\n",
    "\n",
    "/ Division 5 / 2 = 2.5\n",
    "\n",
    "% Modulus (remainder) 5 % 2 = 1\n",
    "\n",
    "** Exponentiation 5 ** 2 = 25\n",
    "\n",
    "// Floor Division 5 // 2 = 2\n",
    "\n",
    "Comparison Operator :\n",
    "\n",
    "== Equal to 5 == 5 (True)\n",
    "\n",
    "!= Not equal to 5 != 3 (True)\n",
    "\n",
    "Greater than 5 > 3 (True)\n",
    "\n",
    "< Less than 5 < 3 (False)\n",
    "\n",
    "= Greater than or equal to 5 >= 5 (True)\n",
    "\n",
    "<= Less than or equal to 5 <= 6 (True)\n",
    "\n",
    "Logical Operator :\n",
    "\n",
    "and Logical AND (5 > 3 and 4 < 6) (True)\n",
    "\n",
    "or Logical OR (5 > 3 or 4 > 6) (True)\n",
    "\n",
    "not Logical NOT not(5 > 3) (False)\n",
    "\n",
    "Assignment Operators :\n",
    "\n",
    "= Assignment x = 5\n",
    "\n",
    "+= Add and assign x += 3 (x = x + 3)\n",
    "\n",
    "-= Subtract and assign x -= 3 (x = x - 3)\n",
    "\n",
    "*= Multiply and assign x *= 3\n",
    "\n",
    "/= Divide and assign x /= 3\n",
    "\n",
    "//= Floor divide and assign x //= 3\n",
    "\n",
    "*= Exponentiate and assign x *= 3\n",
    "\n",
    "%= Modulus and assign x %= 3\n",
    "\n",
    "Membership Operators : Used to check if a value is in a sequence.\n",
    "\n",
    "in > Returns True if found > 3 in [1, 2, 3] (True)\n",
    "\n",
    "not in > Returns True if not found > 4 not in [1, 2, 3] (True)\n",
    "\n",
    "Identity Operators : Used to compare the memory location of two objects.\n",
    "\n",
    "is > Returns True if same object x is y\n",
    "\n",
    "is not > Returns True if not same object x is not y"
   ]
  },
  {
   "cell_type": "markdown",
   "id": "2f780f93-f74a-4f66-b294-72866a739ec7",
   "metadata": {},
   "source": [
    "Question 5. Type casting in python with examples."
   ]
  },
  {
   "cell_type": "raw",
   "id": "97215465-6ca7-4226-ab29-903dde2f2a97",
   "metadata": {},
   "source": [
    "Type casting in Python is the process of converting one data type into another. This is useful when you need to perform operations that require data to be in a specific format.\n",
    "\n",
    "Implicit Type Casting: Done automatically by Python when converting compatible types.\n",
    "Explicit Type Casting: Done manually by the programmer using functions like int(), float(), str(), etc."
   ]
  },
  {
   "cell_type": "code",
   "execution_count": 11,
   "id": "4054adbc-1261-40a8-afc8-06831d82a6b8",
   "metadata": {},
   "outputs": [
    {
     "name": "stdout",
     "output_type": "stream",
     "text": [
      "7.5\n",
      "<class 'float'>\n"
     ]
    }
   ],
   "source": [
    "# Implicit Type Casting\n",
    "# Python automatically converts a smaller data type to a larger data type to avoid data loss.\n",
    "x = 5      # int\n",
    "y = 2.5    # float\n",
    "result = x + y   # x is implicitly converted to float\n",
    "print(result)    # Output: 7.5\n",
    "print(type(result))  # Output: <class 'float'>"
   ]
  },
  {
   "cell_type": "code",
   "execution_count": 12,
   "id": "712489ee-9240-47e1-b093-0b6b727ef208",
   "metadata": {},
   "outputs": [
    {
     "name": "stdout",
     "output_type": "stream",
     "text": [
      "110\n"
     ]
    }
   ],
   "source": [
    "# Explicit Type Casting\n",
    "# The programmer manually converts one data type to another using built-in functions.\n",
    "num_str = \"100\"\n",
    "num_int = int(num_str)  # Convert string to integer\n",
    "print(num_int + 10)     # Output: 110"
   ]
  },
  {
   "cell_type": "code",
   "execution_count": 13,
   "id": "5097b579-84e6-418a-8cec-af5c628d4b9a",
   "metadata": {},
   "outputs": [
    {
     "name": "stdout",
     "output_type": "stream",
     "text": [
      "5\n"
     ]
    }
   ],
   "source": [
    "x = 5.9\n",
    "y = int(x)  # Convert float to integer\n",
    "print(y)    # Output: 5"
   ]
  },
  {
   "cell_type": "code",
   "execution_count": 14,
   "id": "23f97a61-4284-401a-b820-2b83de71a972",
   "metadata": {},
   "outputs": [
    {
     "name": "stdout",
     "output_type": "stream",
     "text": [
      "5.0\n"
     ]
    }
   ],
   "source": [
    "a = 5\n",
    "b = float(a)  # Convert integer to float\n",
    "print(b)      # Output: 5.0"
   ]
  },
  {
   "cell_type": "code",
   "execution_count": 15,
   "id": "d22e0490-5a9e-4d14-8807-fbce72a47069",
   "metadata": {},
   "outputs": [
    {
     "name": "stdout",
     "output_type": "stream",
     "text": [
      "The number is 123\n"
     ]
    }
   ],
   "source": [
    "num = 123\n",
    "num_str = str(num)  # Convert integer to string\n",
    "print(\"The number is \" + num_str)  # Output: The number is 123"
   ]
  },
  {
   "cell_type": "code",
   "execution_count": 16,
   "id": "7cad95f0-bab3-4549-b607-b31bfcd0de89",
   "metadata": {},
   "outputs": [
    {
     "name": "stdout",
     "output_type": "stream",
     "text": [
      "(1, 2, 3)\n"
     ]
    }
   ],
   "source": [
    "my_list = [1, 2, 3]\n",
    "my_tuple = tuple(my_list)  # Convert list to tuple\n",
    "print(my_tuple)            # Output: (1, 2, 3)"
   ]
  },
  {
   "cell_type": "code",
   "execution_count": 17,
   "id": "f8e76760-32b6-47dc-9040-7a7f10ca1d8b",
   "metadata": {},
   "outputs": [
    {
     "name": "stdout",
     "output_type": "stream",
     "text": [
      "['H', 'e', 'l', 'l', 'o']\n"
     ]
    }
   ],
   "source": [
    "my_string = \"Hello\"\n",
    "my_list = list(my_string)  # Convert string to list\n",
    "print(my_list)             # Output: ['H', 'e', 'l', 'l', 'o']"
   ]
  },
  {
   "cell_type": "markdown",
   "id": "09080407-54fd-40dc-b452-93768f94a082",
   "metadata": {},
   "source": [
    "Question 6. How do conditional statements work in python? illustrate with examples."
   ]
  },
  {
   "cell_type": "raw",
   "id": "f05a43ad-489d-49e0-aedf-ab730b7c6745",
   "metadata": {},
   "source": [
    "Conditional statements allow you to execute different blocks of code based on certain conditions. In Python there are if, elif, and else."
   ]
  },
  {
   "cell_type": "code",
   "execution_count": 18,
   "id": "9905dfd3-aa34-4cb1-9c04-34798dc28966",
   "metadata": {},
   "outputs": [
    {
     "name": "stdout",
     "output_type": "stream",
     "text": [
      "x is greater than 5\n"
     ]
    }
   ],
   "source": [
    "# if Statement > Executes a code if the condition is True.\n",
    "x = 10\n",
    "if x > 5:\n",
    "    print(\"x is greater than 5\")"
   ]
  },
  {
   "cell_type": "code",
   "execution_count": 19,
   "id": "dcf3e377-1029-439f-b18b-b0cee7bb4ae4",
   "metadata": {},
   "outputs": [
    {
     "name": "stdout",
     "output_type": "stream",
     "text": [
      "x is less than or equal to 5\n"
     ]
    }
   ],
   "source": [
    "# if-else Statement > Executes a code if the condition is True, otherwise it executes another code.\n",
    "x = 3\n",
    "if x > 5:\n",
    "    print(\"x is greater than 5\")\n",
    "else:\n",
    "    print(\"x is less than or equal to 5\")"
   ]
  },
  {
   "cell_type": "code",
   "execution_count": 20,
   "id": "5affdcde-e777-49d6-ac54-49731d4fb1de",
   "metadata": {},
   "outputs": [
    {
     "name": "stdout",
     "output_type": "stream",
     "text": [
      "x is greater than 5 but less than or equal to 10\n"
     ]
    }
   ],
   "source": [
    "# if-elif-else Statement > Allows multiple conditions to be checked.\n",
    "x = 7\n",
    "if x > 10:\n",
    "    print(\"x is greater than 10\")\n",
    "elif x > 5:\n",
    "    print(\"x is greater than 5 but less than or equal to 10\")\n",
    "else:\n",
    "    print(\"x is 5 or less\")"
   ]
  },
  {
   "cell_type": "code",
   "execution_count": 21,
   "id": "5cb193ed-5670-4707-9726-5fa8aa01db8e",
   "metadata": {},
   "outputs": [
    {
     "name": "stdout",
     "output_type": "stream",
     "text": [
      "x is between 5 and 20\n"
     ]
    }
   ],
   "source": [
    "# Nested if Statement > can place if statements inside other if statements for more complex logic.\n",
    "x = 12\n",
    "if x > 5:\n",
    "    if x < 20:\n",
    "        print(\"x is between 5 and 20\")"
   ]
  },
  {
   "cell_type": "markdown",
   "id": "925017a8-aabe-4b10-ae5f-7e74d60c2d96",
   "metadata": {},
   "source": [
    "Question 7. Different types of loops in python and their use cases with examples."
   ]
  },
  {
   "cell_type": "raw",
   "id": "115d2f60-962c-4e9a-974c-21e854f2cdf3",
   "metadata": {},
   "source": [
    "Python provides two main types of loops: for loops and while loops, used to repeatedly execute code as long as a condition is met."
   ]
  },
  {
   "cell_type": "code",
   "execution_count": 22,
   "id": "7007e46f-0f39-4327-a491-dd00358e202f",
   "metadata": {},
   "outputs": [
    {
     "name": "stdout",
     "output_type": "stream",
     "text": [
      "apple\n",
      "banana\n",
      "cherry\n"
     ]
    }
   ],
   "source": [
    "# for Loop > A for loop iterates over a sequence (like a list, tuple, string, or range).\n",
    "# Iterating through items in a list, string, or range.\n",
    "# Repeatedly executing a block of code a specific number of times.\n",
    "\n",
    "# Loop through a list\n",
    "fruits = [\"apple\", \"banana\", \"cherry\"]\n",
    "for fruit in fruits:\n",
    "    print(fruit)"
   ]
  },
  {
   "cell_type": "code",
   "execution_count": 23,
   "id": "86db1b26-6236-4f0d-9271-84f5aed7cc1a",
   "metadata": {},
   "outputs": [
    {
     "name": "stdout",
     "output_type": "stream",
     "text": [
      "5\n",
      "4\n",
      "3\n",
      "2\n",
      "1\n"
     ]
    }
   ],
   "source": [
    "# while Loop > A while loop keeps running as long as its condition is True.\n",
    "# Repeating a block of code as long as a certain condition is true.\n",
    "# Used when the number of iterations is not known beforehand.\n",
    "\n",
    "x = 5\n",
    "while x > 0:\n",
    "    print(x)\n",
    "    x -= 1"
   ]
  },
  {
   "cell_type": "code",
   "execution_count": 24,
   "id": "64992463-c78e-4899-9783-050d30c6c7b8",
   "metadata": {},
   "outputs": [
    {
     "name": "stdout",
     "output_type": "stream",
     "text": [
      "1\n",
      "2\n",
      "3\n",
      "4\n"
     ]
    }
   ],
   "source": [
    "# Nested Loops > A loop inside another loop.\n",
    "matrix = [[1, 2], [3, 4]]\n",
    "for row in matrix:\n",
    "    for item in row:\n",
    "        print(item)"
   ]
  },
  {
   "cell_type": "code",
   "execution_count": 25,
   "id": "ab7aabee-ded7-4ace-8715-968529d1243e",
   "metadata": {},
   "outputs": [
    {
     "name": "stdout",
     "output_type": "stream",
     "text": [
      "0\n",
      "2\n"
     ]
    }
   ],
   "source": [
    "# Loop control > break: Exits the loop entirely. continue: Skips the current iteration and continues with the next. pass: Does nothing, acts as a placeholder.\n",
    "for i in range(5):\n",
    "    if i == 3:\n",
    "        break  # Exit the loop when i is 3\n",
    "    if i == 1:\n",
    "        continue  # Skip iteration when i is 1\n",
    "    print(i)"
   ]
  },
  {
   "cell_type": "code",
   "execution_count": null,
   "id": "90111db0-48ac-4947-a65a-9b1aa90bcd4f",
   "metadata": {},
   "outputs": [],
   "source": []
  }
 ],
 "metadata": {
  "kernelspec": {
   "display_name": "Python 3 (ipykernel)",
   "language": "python",
   "name": "python3"
  },
  "language_info": {
   "codemirror_mode": {
    "name": "ipython",
    "version": 3
   },
   "file_extension": ".py",
   "mimetype": "text/x-python",
   "name": "python",
   "nbconvert_exporter": "python",
   "pygments_lexer": "ipython3",
   "version": "3.10.8"
  }
 },
 "nbformat": 4,
 "nbformat_minor": 5
}
